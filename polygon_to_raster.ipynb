{
 "cells": [
  {
   "cell_type": "code",
   "execution_count": 1,
   "id": "08e1c2ff",
   "metadata": {},
   "outputs": [
    {
     "name": "stdout",
     "output_type": "stream",
     "text": [
      "✅ Shapefile rasterized and saved as /usr/workspace/lazin1/anaconda_dane/envs/RAPID/Codes/Sonoma_shapefile/Sonoma_reaches/Sonoma_extent_reach.tif\n"
     ]
    }
   ],
   "source": [
    "\n",
    "\n",
    "import rasterio\n",
    "import geopandas as gpd\n",
    "from rasterio.features import rasterize\n",
    "from rasterio.transform import from_bounds\n",
    "\n",
    "# Input shapefile and reference raster\n",
    "shapefile = \"/usr/workspace/lazin1/anaconda_dane/envs/RAPID/Codes/Sonoma_shapefile/Sonoma_reaches/Sonoma_extent_reach.shp\"\n",
    "reference_raster = \"/p/lustre2/lazin1/DEM/cropped_dem_11467270_extent.tif\"  # Use DEM or precipitation raster as reference\n",
    "\n",
    "# Read shapefile\n",
    "gdf = gpd.read_file(shapefile)\n",
    "\n",
    "# Read reference raster to get shape, transform, and CRS\n",
    "with rasterio.open(reference_raster) as src:\n",
    "    meta = src.meta.copy()\n",
    "    out_shape = (src.height, src.width)\n",
    "    transform = src.transform\n",
    "    crs = src.crs\n",
    "\n",
    "# Create list of (geometry, value) pairs\n",
    "shapes = [(geom, 1) for geom in gdf.geometry]  # Assign value=1 to all features\n",
    "\n",
    "# Rasterize shapefile\n",
    "rasterized = rasterize(\n",
    "    shapes=shapes,\n",
    "    out_shape=out_shape,\n",
    "    transform=transform,\n",
    "    fill=0,  # background value\n",
    "    dtype=\"uint8\"\n",
    ")\n",
    "\n",
    "# Save to GeoTIFF\n",
    "output_raster = \"/usr/workspace/lazin1/anaconda_dane/envs/RAPID/Codes/Sonoma_shapefile/Sonoma_reaches/Sonoma_extent_reach.tif\"\n",
    "with rasterio.open(output_raster, \"w\", **meta) as dst:\n",
    "    dst.write(rasterized, 1)\n",
    "\n",
    "print(f\"✅ Shapefile rasterized and saved as {output_raster}\")\n"
   ]
  },
  {
   "cell_type": "code",
   "execution_count": 3,
   "id": "6e09cf79",
   "metadata": {},
   "outputs": [
    {
     "name": "stdout",
     "output_type": "stream",
     "text": [
      "Saved rasterized river reaches to /usr/workspace/lazin1/anaconda_dane/envs/RAPID/Codes/Sonoma_shapefile/Sonoma_reaches/Sonoma_extent_reach.tif\n"
     ]
    }
   ],
   "source": [
    "import rasterio\n",
    "from rasterio.features import rasterize\n",
    "import geopandas as gpd\n",
    "\n",
    "# Input shapefile\n",
    "shapefile = \"/usr/workspace/lazin1/anaconda_dane/envs/RAPID/Codes/Sonoma_shapefile/Sonoma_reaches/Sonoma_extent_reach.shp\"\n",
    "gdf = gpd.read_file(shapefile)\n",
    "\n",
    "# Reference raster (e.g., DEM) to match resolution, extent, CRS\n",
    "ref_raster = \"/p/lustre2/lazin1/DEM/cropped_dem_11467270_extent.tif\"\n",
    "with rasterio.open(ref_raster) as src:\n",
    "    meta = src.meta.copy()\n",
    "\n",
    "# Define output raster path\n",
    "out_raster = \"/usr/workspace/lazin1/anaconda_dane/envs/RAPID/Codes/Sonoma_shapefile/Sonoma_reaches/Sonoma_extent_reach.tif\"\n",
    "\n",
    "# Create list of (geometry, value)\n",
    "shapes = [(geom, 1) for geom in gdf.geometry]  # all river pixels = 1\n",
    "\n",
    "# Rasterize\n",
    "with rasterio.open(out_raster, \"w\", **meta) as dst:\n",
    "    burned = rasterize(\n",
    "        shapes=shapes,\n",
    "        out_shape=(meta[\"height\"], meta[\"width\"]),\n",
    "        transform=meta[\"transform\"],\n",
    "        fill=0,                # background value\n",
    "        dtype=\"uint8\"\n",
    "    )\n",
    "    dst.write(burned, 1)\n",
    "\n",
    "print(f\"Saved rasterized river reaches to {out_raster}\")\n"
   ]
  },
  {
   "cell_type": "code",
   "execution_count": null,
   "id": "44249524",
   "metadata": {},
   "outputs": [],
   "source": []
  }
 ],
 "metadata": {
  "kernelspec": {
   "display_name": "pyproj2",
   "language": "python",
   "name": "python3"
  },
  "language_info": {
   "codemirror_mode": {
    "name": "ipython",
    "version": 3
   },
   "file_extension": ".py",
   "mimetype": "text/x-python",
   "name": "python",
   "nbconvert_exporter": "python",
   "pygments_lexer": "ipython3",
   "version": "3.13.2"
  }
 },
 "nbformat": 4,
 "nbformat_minor": 5
}
