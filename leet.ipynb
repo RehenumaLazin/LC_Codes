{
 "cells": [
  {
   "cell_type": "code",
   "execution_count": 26,
   "id": "31be676b",
   "metadata": {},
   "outputs": [
    {
     "name": "stdout",
     "output_type": "stream",
     "text": [
      "[1000, 1000, 100, 500, 10, 10, 5]\n",
      "2425\n"
     ]
    }
   ],
   "source": [
    "A ={}\n",
    "\n",
    "A['I']=1\n",
    "A['V'] = 5\n",
    "A['X']=10\n",
    "A['L'] = 50\n",
    "A['C']= 100\n",
    "A['D']= 500\n",
    "A['M']=1000\n",
    "\n",
    "\n",
    "\n",
    "# A['IV']=4\n",
    "# A['IX']=9\n",
    "# A['XL'] = 40\n",
    "# A['CM']= 900\n",
    "s = 'MMCDXXV'\n",
    "l = []\n",
    "for t in s:\n",
    "    if t in list(A.keys()):\n",
    "        l.append(A[t])\n",
    "        \n",
    "sum(l)\n",
    "print(l)\n",
    "iters = iter(l)\n",
    "numbers=[]\n",
    "\n",
    "index =0\n",
    "\n",
    "while index + 1  < len(l):\n",
    "        \n",
    "    if l[index] < l[index + 1]:\n",
    "        numbers.append(l[index +1] - l[index])\n",
    "        index = index + 2\n",
    "        \n",
    "        \n",
    "    else:\n",
    "        numbers.append(l[index])\n",
    "        index= index + 1\n",
    "\n",
    "if index + 1 == len(l):\n",
    "    numbers.append(l[index])\n",
    "        \n",
    "        \n",
    "print(sum(numbers))"
   ]
  },
  {
   "cell_type": "code",
   "execution_count": null,
   "id": "0db8694e",
   "metadata": {},
   "outputs": [
    {
     "name": "stdout",
     "output_type": "stream",
     "text": [
      "f\n"
     ]
    }
   ],
   "source": [
    "strs = [\"flower\",\"flow\",\"flight\", \"fog\"]\n",
    "sizes = []\n",
    "# for str in strs:\n",
    "\n",
    "f_str= strs[0][0]\n",
    "for s in strs:\n",
    "    sizes.append(len(s))\n",
    "    if s[0]!= f_str:\n",
    "        test = 0\n",
    "    \n",
    "\n",
    "idx = sizes.index(min(sizes))\n",
    "min_str = strs[idx]\n",
    "\n",
    "common_str = \"\"\n",
    "\n",
    "\n",
    "# for e in min_str:\n",
    "    # print(e)\n",
    "a =[]\n",
    "for i, m in enumerate(min_str):\n",
    "    # print(m)\n",
    "    \n",
    "    for n in strs:\n",
    "\n",
    "        if n[i]!=m:\n",
    "            break\n",
    "    if n[i]!=m:\n",
    "        break\n",
    "\n",
    "if i==0:\n",
    "    min_str=\"\"\n",
    "print(min_str[0:i])\n",
    "    \n",
    "    \n",
    "    # print(n)\n",
    "    # if min_str not in n:\n",
    "    #     # print(\"True\")\n",
    "    #     continue\n",
    "#     common_str = common_str + min_str\n",
    "            \n",
    "# print(common_str)  "
   ]
  },
  {
   "cell_type": "code",
   "execution_count": 27,
   "id": "9c07be91",
   "metadata": {},
   "outputs": [
    {
     "name": "stdout",
     "output_type": "stream",
     "text": [
      "test\n",
      "m  0\n"
     ]
    },
    {
     "data": {
      "text/plain": [
       "''"
      ]
     },
     "execution_count": 27,
     "metadata": {},
     "output_type": "execute_result"
    }
   ],
   "source": [
    "strs = [\"flower\",\"flow\",\"flight\"]\n",
    "strs = [\"\", \"\"]\n",
    "def solution(strs):\n",
    "    if len(strs) >1:\n",
    "        print('test')\n",
    "        sizes = []\n",
    "        for s in strs:\n",
    "            sizes.append(len(s))\n",
    "        idx = sizes.index(min(sizes))\n",
    "        min_str = strs[idx]\n",
    "        print('m', min_str, len(min_str))\n",
    "        \n",
    "        if len(min_str)==0:\n",
    "            return \"\"\n",
    "        \n",
    "        else:\n",
    "            \n",
    "\n",
    "            for i, m in enumerate(min_str):\n",
    "                for n in strs:\n",
    "                    if n[i]!=m:\n",
    "                        break\n",
    "                if n[i]!=m:\n",
    "                    break\n",
    "            return min_str[:i]\n",
    "    \n",
    "    # elif len(strs) == 1:\n",
    "    #     return strs[0]\n",
    "    else:\n",
    "        return \"\"\n",
    "\n",
    "\n",
    "solution(strs)"
   ]
  },
  {
   "cell_type": "code",
   "execution_count": 15,
   "id": "6fe22ba4",
   "metadata": {},
   "outputs": [
    {
     "data": {
      "text/plain": [
       "2"
      ]
     },
     "execution_count": 15,
     "metadata": {},
     "output_type": "execute_result"
    }
   ],
   "source": [
    "len(strs)"
   ]
  },
  {
   "cell_type": "code",
   "execution_count": 41,
   "id": "ca6934a9",
   "metadata": {},
   "outputs": [
    {
     "data": {
      "text/plain": [
       "''"
      ]
     },
     "execution_count": 41,
     "metadata": {},
     "output_type": "execute_result"
    }
   ],
   "source": [
    "strs = [\"flower\",\"flow\",\"flight\"]\n",
    "strs = [\"\", \"\"]\n",
    "\n",
    "def solution(strs):\n",
    "    ans = \"\"\n",
    "    strs.sort()\n",
    "    s1= strs[0]\n",
    "    s2 = strs[-1]\n",
    "    for i, l in enumerate(strs[0]):\n",
    "        if l==s2[i]:\n",
    "            ans = ans+l\n",
    "        else:\n",
    "            break\n",
    "    # print(strs)\n",
    "        \n",
    "    \n",
    "    \n",
    "    \n",
    "    return ans\n",
    "solution(strs)"
   ]
  },
  {
   "cell_type": "code",
   "execution_count": 2,
   "id": "5bcdcda6",
   "metadata": {},
   "outputs": [
    {
     "data": {
      "text/plain": [
       "'()'"
      ]
     },
     "execution_count": 2,
     "metadata": {},
     "output_type": "execute_result"
    }
   ],
   "source": [
    "\n",
    "a =[\"(\"]\n",
    "b=[\")\"]\n",
    "s = \"(())\"\n",
    "s.replace(a[0]+b[0],\"\")"
   ]
  },
  {
   "cell_type": "code",
   "execution_count": 3,
   "id": "ba6e2eb9",
   "metadata": {},
   "outputs": [
    {
     "ename": "AttributeError",
     "evalue": "'str' object has no attribute 'pop'",
     "output_type": "error",
     "traceback": [
      "\u001b[0;31m---------------------------------------------------------------------------\u001b[0m",
      "\u001b[0;31mAttributeError\u001b[0m                            Traceback (most recent call last)",
      "Cell \u001b[0;32mIn[3], line 1\u001b[0m\n\u001b[0;32m----> 1\u001b[0m \u001b[43ms\u001b[49m\u001b[38;5;241;43m.\u001b[39;49m\u001b[43mpop\u001b[49m()\n",
      "\u001b[0;31mAttributeError\u001b[0m: 'str' object has no attribute 'pop'"
     ]
    }
   ],
   "source": [
    "s.pop()"
   ]
  },
  {
   "cell_type": "code",
   "execution_count": 4,
   "id": "bfc76faf",
   "metadata": {},
   "outputs": [],
   "source": [
    "class Solution:\n",
    "    def isValid(self, s: str) -> bool:\n",
    "\n",
    "        # parenthesis_dict = {}\n",
    "        # parenthesis_dict['('] = ')'\n",
    "        # parenthesis_dict['{'] = '}'\n",
    "        # parenthesis_dict['['] = ']'\n",
    "        # parenthesis_dict[']'] = 'NA'\n",
    "        # parenthesis_dict[')'] = 'NA'\n",
    "        # parenthesis_dict['}'] = 'NA'\n",
    "        starts = [\"[\",  \"{\", \"(\",]\n",
    "        ends = [ \"]\",  \"}\",\")\"]\n",
    "        parentheses = [\"[]\", \"{}\", \"()\"]\n",
    "\n",
    "        # if len(s)>0:\n",
    "        #     for i, p in enumerate(starts):\n",
    "        #         if p in s:\n",
    "        #             idx = s.index(p)\n",
    "        #             if idx+1 < len(s) and s[idx+1] == ends[i]:\n",
    "        #                 s = s.replace(p+ends[i],\"\")\n",
    "        #                 print(s)\n",
    "        check = 1\n",
    "        \n",
    "        if len(s)>=2:\n",
    "            while check:\n",
    "                count = 0\n",
    "                for p in parentheses:\n",
    "                    if p in s:\n",
    "                        s = s.replace(p,\"\")\n",
    "                        # print(s, len(s))\n",
    "                        count += 1\n",
    "                if count == 0:\n",
    "                    check = 0\n",
    "                else:\n",
    "                    check =1\n",
    "\n",
    "\n",
    "        return len(s)==0\n",
    "        #     return True\n",
    "        # else:\n",
    "        #     return False\n",
    "\n",
    "\n",
    "\n",
    "        # if \"[\" in s:\n",
    "        #     idx = s.index(\"[\")\n",
    "        #     if s[idx+1] != \"]\":\n",
    "        #         return False\n",
    "        #         break\n",
    "        # else:\n",
    "\n",
    "\n",
    "\n",
    "        # for a, b in zip(s, s[1:]):\n",
    "        #     print(a,b)\n",
    "        #     if b != parenthesis_dict[a]:\n",
    "                \n",
    "        #         return False\n",
    "        #         break\n",
    "                \n",
    "        #     else:\n",
    "        #         return True\n",
    "\n",
    "\n",
    "s = \"([)]\""
   ]
  },
  {
   "cell_type": "code",
   "execution_count": 114,
   "id": "a434e9de",
   "metadata": {},
   "outputs": [
    {
     "name": "stdout",
     "output_type": "stream",
     "text": [
      "null\n"
     ]
    }
   ],
   "source": [
    "if not strs:\n",
    "    print(\"null\")"
   ]
  },
  {
   "cell_type": "code",
   "execution_count": 9,
   "id": "022a3e9f",
   "metadata": {},
   "outputs": [],
   "source": [
    "s = [\"(\", \"[]\"]\n",
    "s.pop()\n",
    "\n",
    "parenthesis_dict = {}\n",
    "parenthesis_dict['('] = ')'\n",
    "parenthesis_dict['{'] = '}'\n",
    "parenthesis_dict['['] = ']'\n",
    "parenthesis_dict[']'] = 'NA'\n",
    "parenthesis_dict[')'] = 'NA'\n",
    "parenthesis_dict['}'] = 'NA'"
   ]
  },
  {
   "cell_type": "code",
   "execution_count": 2,
   "id": "1beed3fe",
   "metadata": {},
   "outputs": [],
   "source": [
    "list1 = [1,2,4]\n",
    "list2 = [1,3,4]"
   ]
  },
  {
   "cell_type": "code",
   "execution_count": 3,
   "id": "7e91ba91",
   "metadata": {},
   "outputs": [
    {
     "name": "stdout",
     "output_type": "stream",
     "text": [
      "[1, 1, 2, 3, 4, 4]\n"
     ]
    }
   ],
   "source": [
    "list3 = list1 + list2\n",
    "list3.sort()\n",
    "print(list3)"
   ]
  },
  {
   "cell_type": "code",
   "execution_count": null,
   "id": "73802bcb",
   "metadata": {},
   "outputs": [],
   "source": []
  }
 ],
 "metadata": {
  "kernelspec": {
   "display_name": "pyproj2",
   "language": "python",
   "name": "python3"
  },
  "language_info": {
   "codemirror_mode": {
    "name": "ipython",
    "version": 3
   },
   "file_extension": ".py",
   "mimetype": "text/x-python",
   "name": "python",
   "nbconvert_exporter": "python",
   "pygments_lexer": "ipython3",
   "version": "3.13.2"
  }
 },
 "nbformat": 4,
 "nbformat_minor": 5
}
