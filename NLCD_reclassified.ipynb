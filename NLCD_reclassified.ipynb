{
 "cells": [
  {
   "cell_type": "code",
   "execution_count": 7,
   "metadata": {},
   "outputs": [
    {
     "ename": "MemoryError",
     "evalue": "Unable to allocate 125. GiB for an array with shape (105000, 160000) and data type int64",
     "output_type": "error",
     "traceback": [
      "\u001b[0;31m---------------------------------------------------------------------------\u001b[0m",
      "\u001b[0;31mMemoryError\u001b[0m                               Traceback (most recent call last)",
      "Cell \u001b[0;32mIn[7], line 16\u001b[0m\n\u001b[1;32m     11\u001b[0m data \u001b[38;5;241m=\u001b[39m band\u001b[38;5;241m.\u001b[39mReadAsArray()\n\u001b[1;32m     13\u001b[0m \u001b[38;5;66;03m# Reclassification: Example - Urban areas as 1, others as 0\u001b[39;00m\n\u001b[1;32m     14\u001b[0m \u001b[38;5;66;03m# Adjust the values to match the NLCD classes of interest\u001b[39;00m\n\u001b[1;32m     15\u001b[0m \u001b[38;5;66;03m# reclassified_data = np.where((data == 21) | (data == 22) | (data == 23) | (data == 24), 1, 0)\u001b[39;00m\n\u001b[0;32m---> 16\u001b[0m reclassified_data \u001b[38;5;241m=\u001b[39m \u001b[43mnp\u001b[49m\u001b[38;5;241;43m.\u001b[39;49m\u001b[43mwhere\u001b[49m\u001b[43m(\u001b[49m\u001b[43mdata\u001b[49m\u001b[43m \u001b[49m\u001b[38;5;241;43m==\u001b[39;49m\u001b[43m \u001b[49m\u001b[38;5;241;43m11\u001b[39;49m\u001b[43m,\u001b[49m\u001b[43m \u001b[49m\u001b[38;5;241;43m1\u001b[39;49m\u001b[43m,\u001b[49m\u001b[43m \u001b[49m\u001b[38;5;241;43m0\u001b[39;49m\u001b[43m)\u001b[49m\n\u001b[1;32m     17\u001b[0m reclassified_data\u001b[38;5;241m=\u001b[39m reclassified_data\u001b[38;5;241m.\u001b[39mastype(np\u001b[38;5;241m.\u001b[39muint8)\n\u001b[1;32m     19\u001b[0m \u001b[38;5;66;03m# Save the reclassified raster as a GeoTIFF\u001b[39;00m\n",
      "\u001b[0;31mMemoryError\u001b[0m: Unable to allocate 125. GiB for an array with shape (105000, 160000) and data type int64"
     ]
    }
   ],
   "source": [
    "from osgeo import gdal\n",
    "import numpy as np\n",
    "\n",
    "# Input and output file paths\n",
    "input_file = \"/p/lustre2/lazin1/Annual_NLCD_LndCov_2023_CU_C1V0.tif\"  # Replace with your NLCD GeoTIFF\n",
    "output_file = \"/p/lustre2/lazin1/reclassified_Annual_NLCD_LndCov_2023_CU_C1V0.tif\"\n",
    "\n",
    "# Open the NLCD GeoTIFF\n",
    "raster = gdal.Open(input_file)\n",
    "band = raster.GetRasterBand(1)  # Access the first raster band\n",
    "data = band.ReadAsArray()\n",
    "\n",
    "# Reclassification: Example - Urban areas as 1, others as 0\n",
    "# Adjust the values to match the NLCD classes of interest\n",
    "# reclassified_data = np.where((data == 21) | (data == 22) | (data == 23) | (data == 24), 1, 0)\n",
    "reclassified_data = np.where(data == 11, 1, 0)\n",
    "reclassified_data= reclassified_data.astype(np.uint8)\n",
    "\n",
    "# Save the reclassified raster as a GeoTIFF\n",
    "driver = gdal.GetDriverByName(\"GTiff\")\n",
    "out_raster = driver.Create(output_file, raster.RasterXSize, raster.RasterYSize, 1, gdal.GDT_Byte) #gdal.GDT_Byte)\n",
    "out_band = out_raster.GetRasterBand(1)\n",
    "\n",
    "# Write reclassified data to the output raster\n",
    "out_band.WriteArray(reclassified_data)\n",
    "\n",
    "# Copy spatial metadata (projection, geotransform) from the original raster\n",
    "out_raster.SetGeoTransform(raster.GetGeoTransform())\n",
    "out_raster.SetProjection(raster.GetProjection())\n",
    "out_band.FlushCache()\n",
    "\n",
    "print(f\"Reclassified raster saved to {output_file}\")\n"
   ]
  },
  {
   "cell_type": "code",
   "execution_count": 3,
   "metadata": {},
   "outputs": [
    {
     "data": {
      "text/plain": [
       "True"
      ]
     },
     "execution_count": 3,
     "metadata": {},
     "output_type": "execute_result"
    }
   ],
   "source": [
    "import os\n",
    "os.path.exists(\"/p/lustre2/lazin1/Annual_NLCD_LndCov_2023_CU_C1V0.tif\")"
   ]
  },
  {
   "cell_type": "code",
   "execution_count": 14,
   "metadata": {},
   "outputs": [
    {
     "data": {
      "text/plain": [
       "460771999"
      ]
     },
     "execution_count": 14,
     "metadata": {},
     "output_type": "execute_result"
    }
   ],
   "source": [
    "np.sum(data==11)"
   ]
  },
  {
   "cell_type": "code",
   "execution_count": 5,
   "metadata": {},
   "outputs": [
    {
     "name": "stdout",
     "output_type": "stream",
     "text": [
      "Reclassified raster saved to /p/lustre2/lazin1/reclassified_Annual_NLCD_LndCov_2023_CU_C1V0.tif\n"
     ]
    }
   ],
   "source": [
    "# Save the reclassified raster as a GeoTIFF\n",
    "driver = gdal.GetDriverByName(\"GTiff\")\n",
    "out_raster = driver.Create(output_file, raster.RasterXSize, raster.RasterYSize, 1, gdal.GDT_Byte) #gdal.GDT_Byte)\n",
    "out_band = out_raster.GetRasterBand(1)\n",
    "\n",
    "# Write reclassified data to the output raster\n",
    "out_band.WriteArray(reclassified_data)\n",
    "\n",
    "# Copy spatial metadata (projection, geotransform) from the original raster\n",
    "out_raster.SetGeoTransform(raster.GetGeoTransform())\n",
    "out_raster.SetProjection(raster.GetProjection())\n",
    "out_band.FlushCache()\n",
    "\n",
    "print(f\"Reclassified raster saved to {output_file}\")"
   ]
  },
  {
   "cell_type": "code",
   "execution_count": 3,
   "metadata": {},
   "outputs": [
    {
     "data": {
      "text/plain": [
       "dtype('uint8')"
      ]
     },
     "execution_count": 3,
     "metadata": {},
     "output_type": "execute_result"
    }
   ],
   "source": [
    "data.dtype"
   ]
  },
  {
   "cell_type": "code",
   "execution_count": 8,
   "metadata": {},
   "outputs": [
    {
     "data": {
      "text/plain": [
       "array([[0, 0, 0, ..., 0, 0, 0],\n",
       "       [0, 0, 0, ..., 0, 0, 0],\n",
       "       [0, 0, 0, ..., 0, 0, 0],\n",
       "       ...,\n",
       "       [0, 0, 0, ..., 0, 0, 0],\n",
       "       [0, 0, 0, ..., 0, 0, 0],\n",
       "       [0, 0, 0, ..., 0, 0, 0]], dtype=uint8)"
      ]
     },
     "execution_count": 8,
     "metadata": {},
     "output_type": "execute_result"
    }
   ],
   "source": [
    "reclassified_data.astype(np.uint8)"
   ]
  },
  {
   "cell_type": "code",
   "execution_count": 1,
   "metadata": {},
   "outputs": [],
   "source": [
    "import os\n",
    "import numpy as np\n",
    "import rasterio\n",
    "from rasterio.transform import from_origin\n",
    "from rasterio import warp\n",
    "# from netCDF4 import Dataset\n",
    "from osgeo import gdal\n",
    "from datetime import datetime, timedelta\n",
    "import pandas as pd\n",
    "import glob\n",
    "reference_raster_files = glob.glob(\"/p/lustre1/lazin1/RAPID_Archive_Flood_Maps/Tile_Flood_Images_No_Threshold_test/*.tif\") # /p/lustre1/lazin1/RAPID_Archive_Flood_Maps/Tile_Flood_Images_No_Threshold_test #/p/lustre1/lazin1/RAPID_Archive_Flood_Maps/Tile_Flood_Images_No_Threshold_test_Mississippi_20190617_3AC6\n",
    "#\n",
    "# /p/lustre1/lazin1/RAPID_Archive_Flood_Maps/Tile_No_Threshold_Mississippi_20190617_5E5F_non_flood\n",
    "\n",
    "output_geotiff_dir = '/p/lustre2/lazin1/cropped_LC_Harvey_20170829_D734' #Mississippi_20190617_5E5F_non_flood' #Harvey_D374'\n",
    "os.makedirs(output_geotiff_dir,exist_ok=True)\n",
    "\n",
    "# reference_raster_list = os.listdir(reference_raster_dir)\n",
    "\n",
    "\n",
    "\n",
    "\n",
    "\n",
    "temp_raster_path = f\"/p/lustre2/lazin1/Annual_NLCD_LndCov_2023_CU_C1V0.tif\"\n",
    "date_format = \"%Y%m%d\"\n",
    "# Get reference raster info (extent and resolution)\n",
    "for reference_raster_file in reference_raster_files:\n",
    "    \n",
    "    # temp_raster_path = os.path.join(output_geotiff_dir, reference_raster_file.split(\"/\")[-1].split(\"crop\")[0][:-1] + '.tif')\n",
    "    output_geotiff = os.path.join(output_geotiff_dir, 'LC_' + reference_raster_file.split(\"/\")[-1])\n",
    "    \n",
    "    \n",
    "    # temp_raster_path = os.path.join(output_geotiff_dir, reference_raster_file[1].split(\"crop\")[0][:-1]+'.tif')\n",
    "    # output_geotiff = os.path.join(output_geotiff_dir, '1day_prec_' + reference_raster_file[1])\n",
    "    reference_raster = reference_raster_file #os.path.join(reference_raster_dir,reference_raster_file[1])\n",
    "    with rasterio.open(reference_raster) as ref:\n",
    "        ref_transform = ref.transform\n",
    "        ref_crs = ref.crs\n",
    "        ref_shape = (ref.height, ref.width)\n",
    "        ref_bounds = ref.bounds\n",
    "\n",
    "    # with rasterio.open(\n",
    "    #     temp_raster_path,\n",
    "    #     \"w\",\n",
    "    #     driver=\"GTiff\",\n",
    "    #     height=precip_1day.shape[0],\n",
    "    #     width=precip_1day.shape[1],\n",
    "    #     count=1,\n",
    "    #     dtype=\"float32\",\n",
    "    #     crs=\"EPSG:4326\",\n",
    "    #     transform=from_origin(longitudes.min(), latitudes.max(), longitudes[1] - longitudes[0], latitudes[1] - latitudes[0])\n",
    "    # ) as temp_dst:\n",
    "    #     temp_dst.write((np.flip(precip_1day, axis=0)), 1)\n",
    "\n",
    "    # Reproject and resample to match the reference raster\n",
    "    with rasterio.open(temp_raster_path) as src:\n",
    "        with rasterio.open(\n",
    "            output_geotiff,\n",
    "            \"w\",\n",
    "            driver=\"GTiff\",\n",
    "            height=ref_shape[0],\n",
    "            width=ref_shape[1],\n",
    "            count=1,\n",
    "            dtype=\"float32\",\n",
    "            crs=ref_crs,\n",
    "            transform=ref_transform,\n",
    "            nodata=-9999\n",
    "        ) as dst:\n",
    "            # Resample and reproject the data\n",
    "            warp.reproject(\n",
    "                source=rasterio.band(src, 1),\n",
    "                destination=rasterio.band(dst, 1),\n",
    "                src_transform=src.transform,\n",
    "                src_crs=src.crs,\n",
    "                dst_transform=ref_transform,\n",
    "                dst_crs=ref_crs,\n",
    "                resampling=warp.Resampling.nearest\n",
    "            )\n"
   ]
  },
  {
   "cell_type": "code",
   "execution_count": null,
   "metadata": {},
   "outputs": [],
   "source": []
  }
 ],
 "metadata": {
  "kernelspec": {
   "display_name": "RAPID",
   "language": "python",
   "name": "python3"
  },
  "language_info": {
   "codemirror_mode": {
    "name": "ipython",
    "version": 3
   },
   "file_extension": ".py",
   "mimetype": "text/x-python",
   "name": "python",
   "nbconvert_exporter": "python",
   "pygments_lexer": "ipython3",
   "version": "3.12.6"
  }
 },
 "nbformat": 4,
 "nbformat_minor": 2
}
