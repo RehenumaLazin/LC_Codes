{
 "cells": [
  {
   "cell_type": "markdown",
   "id": "54cbf2dc-da97-4018-9a8f-2c3d84fda472",
   "metadata": {},
   "source": [
    "# Download NWM data inside Sonoma"
   ]
  },
  {
   "cell_type": "code",
   "execution_count": null,
   "id": "f6c298e5-6568-4040-934a-92f5c406774f",
   "metadata": {},
   "outputs": [],
   "source": [
    "# Open Zarr CHRTOUT for NWM V3\n",
    "url = \"https://noaa-nwm-retrospective-3.0-zarr.s3.amazonaws.com/channel_rt.zarr\"\n",
    "ds = xr.open_zarr(fsspec.get_mapper(url), consolidated=True)\n",
    "\n",
    "# Select only your COMIDs\n",
    "ds_subset = ds.sel(feature_id=comids)\n",
    "# Save to NetCDF file\n",
    "output_path = \"/pscratch/sd/w/wu59/nwm_retro-3.0_channel_rt.nc\"\n",
    "ds_subset.to_netcdf(output_path)"
   ]
  }
 ],
 "metadata": {
  "kernelspec": {
   "display_name": "",
   "name": ""
  },
  "language_info": {
   "name": ""
  }
 },
 "nbformat": 4,
 "nbformat_minor": 5
}
